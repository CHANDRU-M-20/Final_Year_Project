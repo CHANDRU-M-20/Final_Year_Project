{
 "cells": [
  {
   "cell_type": "code",
   "execution_count": null,
   "id": "b06d19d1",
   "metadata": {},
   "outputs": [
    {
     "name": "stdout",
     "output_type": "stream",
     "text": [
      " * Serving Flask app \"__main__\" (lazy loading)\n",
      " * Environment: production\n",
      "   WARNING: This is a development server. Do not use it in a production deployment.\n",
      "   Use a production WSGI server instead.\n",
      " * Debug mode: off\n"
     ]
    },
    {
     "name": "stderr",
     "output_type": "stream",
     "text": [
      "F:\\Anaconda\\lib\\site-packages\\sklearn\\base.py:310: UserWarning: Trying to unpickle estimator DecisionTreeClassifier from version 1.0.2 when using version 0.24.1. This might lead to breaking code or invalid results. Use at your own risk.\n",
      "  warnings.warn(\n",
      "F:\\Anaconda\\lib\\site-packages\\sklearn\\base.py:310: UserWarning: Trying to unpickle estimator RandomForestClassifier from version 1.0.2 when using version 0.24.1. This might lead to breaking code or invalid results. Use at your own risk.\n",
      "  warnings.warn(\n",
      " * Running on http://localhost:5056/ (Press CTRL+C to quit)\n",
      "127.0.0.1 - - [09/Jun/2022 18:52:45] \"\u001b[37mGET / HTTP/1.1\u001b[0m\" 200 -\n",
      "127.0.0.1 - - [09/Jun/2022 18:53:08] \"\u001b[37mPOST /predict HTTP/1.1\u001b[0m\" 200 -\n"
     ]
    },
    {
     "name": "stdout",
     "output_type": "stream",
     "text": [
      "[array(['0', '14', '9', '1032', '0', '155', '155', '255', '255'],\n",
      "      dtype='<U4')]\n",
      "smurf.DOS attack icmp echo reply flood\n"
     ]
    }
   ],
   "source": [
    "import numpy as np\n",
    "from flask import Flask, request, jsonify, render_template\n",
    "import pickle\n",
    "import joblib\n",
    "\n",
    "app = Flask(__name__)\n",
    "model = joblib.load('The_Random_Forest_Ultra.pkl')\n",
    "\n",
    "@app.route('/')\n",
    "def home():\n",
    "    return render_template('front_end.html')\n",
    "\n",
    "@app.route('/predict',methods=['POST'])\n",
    "def predict():\n",
    "    '''\n",
    "    For rendering results on HTML GUI\n",
    "    '''\n",
    "    def get_key(d,val):\n",
    "        for key, value in d.items():\n",
    "            if val == value:\n",
    "                return key\n",
    " \n",
    "        return \"key doesn't exist\"\n",
    "\n",
    "    features = [(x) for x in request.form.values()]\n",
    "    service={0: 'IRC', 1: 'X11', 2: 'Z39_50', 3: 'auth', 4: 'bgp', 5: 'courier', \n",
    "         6: 'csnet_ns', 7: 'ctf', 8: 'daytime', 9: 'discard', 10: 'domain', \n",
    "         11: 'domain_u', 12: 'echo', 13: 'eco_i', 14: 'ecr_i', 15: 'efs', \n",
    "         16: 'exec', 17: 'finger', 18: 'ftp', 19: 'ftp_data', 20: 'gopher', \n",
    "         21: 'hostnames', 22: 'http', 23: 'http_443', 24: 'http_8001', 25: 'imap4', \n",
    "         26: 'iso_tsap', 27: 'klogin', 28: 'kshell', 29: 'ldap', 30: 'link', \n",
    "         31: 'login', 32: 'mtp', 33: 'name', 34: 'netbios_dgm', 35: 'netbios_ns',\n",
    "         36: 'netbios_ssn', 37: 'netstat', 38: 'nnsp', 39: 'nntp', 40: 'ntp_u',\n",
    "         41: 'other', 42: 'pm_dump', 43: 'pop_2', 44: 'pop_3', 45: 'printer', \n",
    "         46: 'private', 47: 'remote_job', 48: 'rje', 49: 'shell', 50: 'smtp',\n",
    "         51: 'sql_net', 52: 'ssh', 53: 'sunrpc', 54: 'supdup', 55: 'systat', \n",
    "         56: 'telnet', 57: 'tim_i', 58: 'time', 59: 'urp_i', 60: 'uucp',\n",
    "         61: 'uucp_path', 62: 'vmnet', 63: 'whois'}\n",
    "    flag={0: 'OTH', 1: 'REJ', 2: 'RSTO', 3: 'RSTOS0', 4: 'RSTR', 5: 'S0', 6: 'S1', 7: 'S2', 8: 'S3', 9: 'SF', 10: 'SH'}\n",
    "    attack={0: 'back.DOS attack against apache web server where a client requests a URL containing many backslashes', \n",
    "            1: 'buffer_overflow.using the ffbconfig UNIX system command leads to root shell', \n",
    "            2: 'ftp_write.Remote FTP user creates .rhost file in world writable anonymous FTP directory and obtains local login', \n",
    "            3: 'guess_passwd.Try to guess password via telnet for guest account',\n",
    "            4: 'imap.Remote buffer overflow using imap port leads to root shell',\n",
    "            5: 'ipsweep.Surveillance sweep performing either a port sweep or ping on multiple host addresses',\n",
    "            6: 'land.DOS attack,where a remote host is sent a UDP packet with thesame source and destination',\n",
    "            7: 'loadmodule.Non-stealthy loadmodule attack which resets IFS for a normal user andcreates a root shell',\n",
    "            8: 'multihop.Multi-day scenario in which a user first breaks into one machine',\n",
    "            9: 'neptune.Syn flood denial of service on one or more ports', \n",
    "            10: 'nmap.Network mapping using the nmap tool. Mode of exploring network willvary-options include SYN',\n",
    "            11: 'normal.your network is safe',\n",
    "            12: 'perl.Perl attack which sets the user id to root in a perl script and creates a root shell', \n",
    "            13: 'phf.Exploitable CGI script which allows a client to execute arbitrary commands on a machine with a mis-configured web server.',\n",
    "            14: 'pod.DOS attack ping of death',\n",
    "            15: 'portsweep.Surveillance sweep through many ports to determine which services aresupported on a single host',\n",
    "            16: 'rootkit.Multi-day scenario where a user installs one or more components of arootkit', \n",
    "            17: 'satan.Network probing tool which looks for well-known weaknesses. Operates at three different levels. Level 0 is light',\n",
    "            18: 'smurf.DOS attack icmp echo reply flood', \n",
    "            19: 'spy.Multi-day scenario in which a user breaks into a machine with the purpose of finding important information where the user tries to avoid detection. Uses several different exploit methods to gain access', \n",
    "            20: 'teardrop.DOS attack where mis-fragmented UDP packets cause somesystems to reboot', \n",
    "            21: 'warezclient.Users downloading illegal software which was previously posted viaanonymous FTP by the warezmaster', \n",
    "            22: 'warezmaster.Anonymous FTP upload of Warez (usually illegal copies of copy writedsoftware) onto FTP server'}\n",
    "    \n",
    "    features[1]=get_key(service,features[1].lower())\n",
    "    features[2]=get_key(flag,features[2].upper())\n",
    "    if \"key doesn't exist\" in features:\n",
    "         return render_template('front_end.html', prediction_text=\"You have entered a invalid value in service or flag.Please enter valid values\")\n",
    "\n",
    "\n",
    "    else:\n",
    "        final_features = [np.array(features)]\n",
    "        print(final_features)\n",
    "        prediction = model.predict(final_features)\n",
    "\n",
    "        output = attack[prediction[0]]\n",
    "        \n",
    "        print(output)\n",
    "        return render_template('front_end.html', prediction_text='The Detected Cyber Attack {}'.format(output))\n",
    "\n",
    "if __name__ == \"__main__\":\n",
    "    app.run(host=\"localhost\", port=5056)\n"
   ]
  },
  {
   "cell_type": "code",
   "execution_count": null,
   "id": "8253d6b0",
   "metadata": {},
   "outputs": [],
   "source": []
  },
  {
   "cell_type": "code",
   "execution_count": null,
   "id": "d206aa55",
   "metadata": {},
   "outputs": [],
   "source": []
  }
 ],
 "metadata": {
  "kernelspec": {
   "display_name": "Python 3",
   "language": "python",
   "name": "python3"
  },
  "language_info": {
   "codemirror_mode": {
    "name": "ipython",
    "version": 3
   },
   "file_extension": ".py",
   "mimetype": "text/x-python",
   "name": "python",
   "nbconvert_exporter": "python",
   "pygments_lexer": "ipython3",
   "version": "3.8.8"
  }
 },
 "nbformat": 4,
 "nbformat_minor": 5
}
